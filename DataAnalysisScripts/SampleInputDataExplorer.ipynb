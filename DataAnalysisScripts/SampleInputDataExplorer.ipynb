{
 "cells": [
  {
   "cell_type": "code",
   "execution_count": 8,
   "metadata": {},
   "outputs": [],
   "source": [
    "import datetime\n",
    "import pandas\n",
    "import pytz \n",
    "import random\n",
    "import urllib"
   ]
  },
  {
   "cell_type": "code",
   "execution_count": 9,
   "metadata": {},
   "outputs": [],
   "source": [
    "link = \"http://api.tvmaze.com/schedule/full\"\n",
    "f = urllib.request.urlopen(link)\n",
    "schedule = pandas.read_json(f.read()) \n",
    "\n",
    "random.seed(0)\n",
    "vdata = []\n",
    "for i in range(10000):\n",
    "    id = random.randint(0, len(schedule)-1)\n",
    "    date = datetime.date(year=2019, month=1, day=random.randint(1,31))\n",
    "    c = list(pytz.country_names.keys())[random.randint(0,248)]\n",
    "    vh = round(abs(random.normalvariate(3, 1)), 2)\n",
    "    vid = random.randint(1000000, 10000000)\n",
    "    d = [schedule['id'][id], date.strftime('%Y-%m-%d'), c, vh, vid]\n",
    "    vdata.append(d)\n",
    "    \n",
    "viewing = pandas.DataFrame(\n",
    "    vdata, \n",
    "    columns = [\n",
    "        'episode_id', 'view_date', 'country', 'view_hours', 'viewer_id'\n",
    "    ]\n",
    ")"
   ]
  },
  {
   "cell_type": "code",
   "execution_count": 10,
   "metadata": {},
   "outputs": [
    {
     "data": {
      "text/html": [
       "<div>\n",
       "<style scoped>\n",
       "    .dataframe tbody tr th:only-of-type {\n",
       "        vertical-align: middle;\n",
       "    }\n",
       "\n",
       "    .dataframe tbody tr th {\n",
       "        vertical-align: top;\n",
       "    }\n",
       "\n",
       "    .dataframe thead th {\n",
       "        text-align: right;\n",
       "    }\n",
       "</style>\n",
       "<table border=\"1\" class=\"dataframe\">\n",
       "  <thead>\n",
       "    <tr style=\"text-align: right;\">\n",
       "      <th></th>\n",
       "      <th>episode_id</th>\n",
       "      <th>view_date</th>\n",
       "      <th>country</th>\n",
       "      <th>view_hours</th>\n",
       "      <th>viewer_id</th>\n",
       "    </tr>\n",
       "  </thead>\n",
       "  <tbody>\n",
       "    <tr>\n",
       "      <th>0</th>\n",
       "      <td>2195087</td>\n",
       "      <td>2019-01-13</td>\n",
       "      <td>SC</td>\n",
       "      <td>4.55</td>\n",
       "      <td>6088743</td>\n",
       "    </tr>\n",
       "    <tr>\n",
       "      <th>1</th>\n",
       "      <td>2201521</td>\n",
       "      <td>2019-01-16</td>\n",
       "      <td>GU</td>\n",
       "      <td>4.56</td>\n",
       "      <td>9467240</td>\n",
       "    </tr>\n",
       "    <tr>\n",
       "      <th>2</th>\n",
       "      <td>2222699</td>\n",
       "      <td>2019-01-10</td>\n",
       "      <td>BY</td>\n",
       "      <td>4.15</td>\n",
       "      <td>5202798</td>\n",
       "    </tr>\n",
       "    <tr>\n",
       "      <th>3</th>\n",
       "      <td>2209746</td>\n",
       "      <td>2019-01-18</td>\n",
       "      <td>PN</td>\n",
       "      <td>1.79</td>\n",
       "      <td>6539790</td>\n",
       "    </tr>\n",
       "    <tr>\n",
       "      <th>4</th>\n",
       "      <td>2219015</td>\n",
       "      <td>2019-01-18</td>\n",
       "      <td>BL</td>\n",
       "      <td>2.63</td>\n",
       "      <td>4430567</td>\n",
       "    </tr>\n",
       "  </tbody>\n",
       "</table>\n",
       "</div>"
      ],
      "text/plain": [
       "   episode_id   view_date country  view_hours  viewer_id\n",
       "0     2195087  2019-01-13      SC        4.55    6088743\n",
       "1     2201521  2019-01-16      GU        4.56    9467240\n",
       "2     2222699  2019-01-10      BY        4.15    5202798\n",
       "3     2209746  2019-01-18      PN        1.79    6539790\n",
       "4     2219015  2019-01-18      BL        2.63    4430567"
      ]
     },
     "execution_count": 10,
     "metadata": {},
     "output_type": "execute_result"
    }
   ],
   "source": [
    "viewing.head()"
   ]
  },
  {
   "cell_type": "code",
   "execution_count": 11,
   "metadata": {},
   "outputs": [],
   "source": [
    "viewing.to_csv(\"viewEventsFromKafka_smaller.tsv\", sep=\"\\t\", index = False, header = False)"
   ]
  },
  {
   "cell_type": "code",
   "execution_count": null,
   "metadata": {},
   "outputs": [],
   "source": []
  }
 ],
 "metadata": {
  "kernelspec": {
   "display_name": "Python 3 (ipykernel)",
   "language": "python",
   "name": "python3"
  },
  "language_info": {
   "codemirror_mode": {
    "name": "ipython",
    "version": 3
   },
   "file_extension": ".py",
   "mimetype": "text/x-python",
   "name": "python",
   "nbconvert_exporter": "python",
   "pygments_lexer": "ipython3",
   "version": "3.10.0"
  }
 },
 "nbformat": 4,
 "nbformat_minor": 4
}
